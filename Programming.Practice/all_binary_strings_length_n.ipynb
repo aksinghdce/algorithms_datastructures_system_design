{
 "cells": [
  {
   "cell_type": "markdown",
   "metadata": {},
   "source": [
    "# Problem 1 : Generate all binary strings of length n"
   ]
  },
  {
   "cell_type": "code",
   "execution_count": 8,
   "metadata": {
    "collapsed": true
   },
   "outputs": [],
   "source": [
    "Xs = list()\n",
    "def all_binary_n(n:int, X=list()):\n",
    "    global Xs\n",
    "    if n < 1:\n",
    "        Xs.append(X.copy())\n",
    "    else:\n",
    "        X.append(0)\n",
    "        all_binary_n(n-1, X)\n",
    "        X.pop()\n",
    "        X.append(1)\n",
    "        all_binary_n(n-1, X)"
   ]
  },
  {
   "cell_type": "code",
   "execution_count": 9,
   "metadata": {},
   "outputs": [],
   "source": [
    "all_binary_n(10)"
   ]
  },
  {
   "cell_type": "code",
   "execution_count": 11,
   "metadata": {},
   "outputs": [
    {
     "data": {
      "text/plain": [
       "1024"
      ]
     },
     "execution_count": 11,
     "metadata": {},
     "output_type": "execute_result"
    }
   ],
   "source": [
    "len(Xs)"
   ]
  },
  {
   "cell_type": "markdown",
   "metadata": {},
   "source": [
    "# Problem 2 : Generate all strings of length n drawn from 0 to k-1"
   ]
  },
  {
   "cell_type": "code",
   "execution_count": 19,
   "metadata": {},
   "outputs": [],
   "source": [
    "answer = list()\n",
    "k = 2\n",
    "# Pseudocode : \n",
    "# 1. Use backtracking in a loop\n",
    "# 2. Input to the recursive functin : length of subset : n, current subset : cs\n",
    "def gasolndf0tokminus1(n=10, cs=list()):\n",
    "    global k\n",
    "    if n < 1:\n",
    "        answer.append(cs.copy())\n",
    "    else:\n",
    "        i = 0\n",
    "        while i < k:\n",
    "            cs.append(i)\n",
    "            gasolndf0tokminus1(n-1, cs)\n",
    "            cs.pop()\n",
    "            i += 1"
   ]
  },
  {
   "cell_type": "code",
   "execution_count": 20,
   "metadata": {},
   "outputs": [],
   "source": [
    "gasolndf0tokminus1()"
   ]
  },
  {
   "cell_type": "code",
   "execution_count": 22,
   "metadata": {},
   "outputs": [
    {
     "data": {
      "text/plain": [
       "1024"
      ]
     },
     "execution_count": 22,
     "metadata": {},
     "output_type": "execute_result"
    }
   ],
   "source": [
    "len(answer)"
   ]
  },
  {
   "cell_type": "markdown",
   "metadata": {},
   "source": [
    "# Pending\n",
    "## Problem 3 : Find length of connected cells. There might be several regions, how do you find the largest region?"
   ]
  },
  {
   "cell_type": "code",
   "execution_count": 5,
   "metadata": {},
   "outputs": [],
   "source": [
    "# Learn about OrderedDict and do algorithms that are relevant to this.\n",
    "# from collections import OrderedDict"
   ]
  },
  {
   "cell_type": "code",
   "execution_count": 47,
   "metadata": {},
   "outputs": [],
   "source": [
    "matrix = [\n",
    "    [1, 1, 0, 0, 0],\n",
    "    [0, 1, 1, 0, 0],\n",
    "    [0, 0, 1, 0, 1],\n",
    "    [1, 0, 0, 0, 1],\n",
    "    [0, 1, 0, 1, 1]\n",
    "]\n",
    "NEIGHBOUR_TUPLES = [(-1, -1), (-1, 0), (-1, 1), (0, -1), (0, 1), (1, -1), (1, 0), (1, 1)]"
   ]
  },
  {
   "cell_type": "code",
   "execution_count": 48,
   "metadata": {},
   "outputs": [],
   "source": [
    "explored = [[0 for i in range(5)] for j in range(5)]"
   ]
  },
  {
   "cell_type": "code",
   "execution_count": 49,
   "metadata": {},
   "outputs": [
    {
     "data": {
      "text/plain": [
       "[[0, 0, 0, 0, 0],\n",
       " [0, 0, 0, 0, 0],\n",
       " [0, 0, 0, 0, 0],\n",
       " [0, 0, 0, 0, 0],\n",
       " [0, 0, 0, 0, 0]]"
      ]
     },
     "execution_count": 49,
     "metadata": {},
     "output_type": "execute_result"
    }
   ],
   "source": [
    "explored"
   ]
  },
  {
   "cell_type": "code",
   "execution_count": 50,
   "metadata": {},
   "outputs": [],
   "source": [
    "def is_valid(row, col):\n",
    "    global matrix\n",
    "    global explored\n",
    "    return ((row >= 0 and row < len(matrix)) and \n",
    "            (col >=0 and col < len(matrix[0])) and\n",
    "           (explored[row][col] != 1) and\n",
    "           matrix[row][col] == 1)"
   ]
  },
  {
   "cell_type": "code",
   "execution_count": 51,
   "metadata": {},
   "outputs": [],
   "source": [
    "def visit(row, col, count=0):\n",
    "    if is_valid(row, col):\n",
    "        count += 1\n",
    "    for (row_, col_) in [(row+x, col+y) for (x, y) in NEIGHBOUR_TUPLES]:\n",
    "        if is_valid(row_, col_):\n",
    "            count += 1\n",
    "            visit(row_, col_, count)\n",
    "    return count"
   ]
  },
  {
   "cell_type": "code",
   "execution_count": 52,
   "metadata": {},
   "outputs": [],
   "source": [
    "def traverse_the_matrix():\n",
    "    '''Get max connected region'''\n",
    "    global matrix\n",
    "    global explored\n",
    "    # traverse the matrix using FIFO\n",
    "    row = 0\n",
    "    col = 0\n",
    "    max_count = 0\n",
    "    while row < len(matrix):\n",
    "        while col < len(matrix[0]):\n",
    "            if (matrix[row][col] == 1) and (explored[row][col] == 0):\n",
    "                count = 1\n",
    "                count = visit(row, col, count)\n",
    "            max_count = max(count, max_count)\n",
    "            col += 1\n",
    "        row += 1\n",
    "    print(max_count)"
   ]
  },
  {
   "cell_type": "code",
   "execution_count": null,
   "metadata": {},
   "outputs": [],
   "source": [
    "traverse_the_matrix()"
   ]
  },
  {
   "cell_type": "markdown",
   "metadata": {},
   "source": [
    "# The fibonacci sequence"
   ]
  },
  {
   "cell_type": "code",
   "execution_count": 1,
   "metadata": {},
   "outputs": [],
   "source": [
    "def fib(n:int) -> int:\n",
    "    if n < 2:\n",
    "        return n\n",
    "    else:\n",
    "        return fib(n-1) + fib(n-2)"
   ]
  },
  {
   "cell_type": "code",
   "execution_count": 14,
   "metadata": {},
   "outputs": [
    {
     "data": {
      "text/plain": [
       "89"
      ]
     },
     "execution_count": 14,
     "metadata": {},
     "output_type": "execute_result"
    }
   ],
   "source": [
    "fib(11)"
   ]
  },
  {
   "cell_type": "code",
   "execution_count": 22,
   "metadata": {},
   "outputs": [],
   "source": [
    "from typing import Dict\n",
    "memo:Dict[int, int] = {0:0, 1:1}\n",
    "\n",
    "def fib2(n:int) -> int:\n",
    "    if n not in memo:\n",
    "        memo[n] = fib2(n-1) + fib2(n-2)\n",
    "    return memo[n]"
   ]
  },
  {
   "cell_type": "code",
   "execution_count": 23,
   "metadata": {},
   "outputs": [
    {
     "data": {
      "text/plain": [
       "89"
      ]
     },
     "execution_count": 23,
     "metadata": {},
     "output_type": "execute_result"
    }
   ],
   "source": [
    "fib2(11)"
   ]
  },
  {
   "cell_type": "code",
   "execution_count": 25,
   "metadata": {},
   "outputs": [],
   "source": [
    "from functools import lru_cache\n",
    "\n",
    "def fib3(n:int) -> int:\n",
    "    if n<2:\n",
    "        return n\n",
    "    else:\n",
    "        return fib3(n-1) + fib3(n-2)"
   ]
  },
  {
   "cell_type": "code",
   "execution_count": 26,
   "metadata": {},
   "outputs": [
    {
     "data": {
      "text/plain": [
       "89"
      ]
     },
     "execution_count": 26,
     "metadata": {},
     "output_type": "execute_result"
    }
   ],
   "source": [
    "fib3(11)"
   ]
  },
  {
   "cell_type": "code",
   "execution_count": 37,
   "metadata": {},
   "outputs": [],
   "source": [
    "def fib4(n:int) -> int:\n",
    "    if n == 0: return n\n",
    "    last:int = 0\n",
    "    next:int = 1\n",
    "    for _ in range(1, n):\n",
    "        last, next = next, last+next\n",
    "    return next"
   ]
  },
  {
   "cell_type": "code",
   "execution_count": 38,
   "metadata": {},
   "outputs": [
    {
     "data": {
      "text/plain": [
       "89"
      ]
     },
     "execution_count": 38,
     "metadata": {},
     "output_type": "execute_result"
    }
   ],
   "source": [
    "fib4(11)"
   ]
  },
  {
   "cell_type": "code",
   "execution_count": 49,
   "metadata": {},
   "outputs": [],
   "source": [
    "from typing import Generator\n",
    "\n",
    "def fib5(n:int) -> Generator[int, None, None]:\n",
    "    yield 0\n",
    "    yield 1\n",
    "    last:int = 0\n",
    "    next:int = 1\n",
    "    for _ in range(1, n):\n",
    "        last, next = next, last + next\n",
    "        yield next"
   ]
  },
  {
   "cell_type": "code",
   "execution_count": 50,
   "metadata": {},
   "outputs": [
    {
     "name": "stdout",
     "output_type": "stream",
     "text": [
      "0\n",
      "1\n",
      "1\n",
      "2\n",
      "3\n",
      "5\n",
      "8\n",
      "13\n",
      "21\n",
      "34\n",
      "55\n",
      "89\n",
      "144\n",
      "233\n",
      "377\n",
      "610\n",
      "987\n",
      "1597\n",
      "2584\n",
      "4181\n",
      "6765\n",
      "10946\n",
      "17711\n",
      "28657\n",
      "46368\n",
      "75025\n",
      "121393\n",
      "196418\n",
      "317811\n",
      "514229\n",
      "832040\n",
      "1346269\n",
      "2178309\n",
      "3524578\n",
      "5702887\n",
      "9227465\n",
      "14930352\n",
      "24157817\n",
      "39088169\n",
      "63245986\n",
      "102334155\n",
      "165580141\n",
      "267914296\n",
      "433494437\n",
      "701408733\n",
      "1134903170\n",
      "1836311903\n",
      "2971215073\n",
      "4807526976\n",
      "7778742049\n",
      "12586269025\n"
     ]
    }
   ],
   "source": [
    "for i in fib5(50):\n",
    "    print(i)"
   ]
  },
  {
   "cell_type": "markdown",
   "metadata": {},
   "source": [
    "# Trivial Compression"
   ]
  },
  {
   "cell_type": "code",
   "execution_count": 65,
   "metadata": {},
   "outputs": [],
   "source": [
    "class CompressedGene:\n",
    "    def __init__(self, gene:str) -> None:\n",
    "        self._compress(gene)\n",
    "    def _compress(self, gene:str) -> None:\n",
    "        self.bit_String:int = 1 # will be of the form 000000...0001 , 27*8 zeros followed by 7 0s and 1\n",
    "        for nucleotide in gene.upper():\n",
    "            self.bit_String <<= 2 # left shift by 2 bits\n",
    "            if nucleotide == 'A':\n",
    "                self.bit_String |= 0b00\n",
    "            elif nucleotide == 'C':\n",
    "                self.bit_String |= 0b01\n",
    "            elif nucleotide == 'G':\n",
    "                self.bit_String |= 0b10\n",
    "            elif nucleotide == 'T':\n",
    "                self.bit_String |= 0b11\n",
    "            else:\n",
    "                raise ValueError(\"Invalid nucleotide:{}\".format(nucleotide))\n",
    "        return\n",
    "    def decompress(self) -> str:\n",
    "        gene:str = \"\"\n",
    "        for i in range(0, self.bit_String.bit_length() - 1, 2):\n",
    "            bits:int = self.bit_String >> i & 0b11 #take 2 bits at a time with initial shift 0\n",
    "            if bits == 0b00:\n",
    "                gene += 'A'\n",
    "            elif bits == 0b01:\n",
    "                gene += 'C'\n",
    "            elif bits == 0b10:\n",
    "                gene += 'G'\n",
    "            elif bits == 0b11:\n",
    "                gene += 'T'\n",
    "            else:\n",
    "                raise ValueError(\"Invalid compression:{}\".format(bits))\n",
    "        return gene[::-1]\n",
    "    def __str__(self) -> str:\n",
    "        return str(self.decompress())\n",
    "    "
   ]
  },
  {
   "cell_type": "code",
   "execution_count": 66,
   "metadata": {},
   "outputs": [],
   "source": [
    "cg = CompressedGene('ATCGTGCAATTGGCAAA')"
   ]
  },
  {
   "cell_type": "code",
   "execution_count": 67,
   "metadata": {},
   "outputs": [
    {
     "name": "stdout",
     "output_type": "stream",
     "text": [
      "ATCGTGCAATTGGCAAA\n"
     ]
    }
   ],
   "source": [
    "print(cg)"
   ]
  },
  {
   "cell_type": "code",
   "execution_count": 68,
   "metadata": {},
   "outputs": [],
   "source": [
    "original_string = 'ATCGTGCAATTGGCAAA' * 1000"
   ]
  },
  {
   "cell_type": "code",
   "execution_count": 69,
   "metadata": {},
   "outputs": [],
   "source": [
    "from sys import getsizeof"
   ]
  },
  {
   "cell_type": "code",
   "execution_count": 70,
   "metadata": {},
   "outputs": [
    {
     "name": "stdout",
     "output_type": "stream",
     "text": [
      "original is 17049 bytes\n"
     ]
    }
   ],
   "source": [
    "print(\"original is {} bytes\".format(getsizeof(original_string)))"
   ]
  },
  {
   "cell_type": "code",
   "execution_count": 71,
   "metadata": {},
   "outputs": [],
   "source": [
    "compressed = CompressedGene(original_string)"
   ]
  },
  {
   "cell_type": "code",
   "execution_count": 75,
   "metadata": {},
   "outputs": [
    {
     "name": "stdout",
     "output_type": "stream",
     "text": [
      "compressed is 4560 bytes\n"
     ]
    }
   ],
   "source": [
    "print(\"compressed is {} bytes\".format(getsizeof(compressed.bit_String)))"
   ]
  },
  {
   "cell_type": "code",
   "execution_count": 76,
   "metadata": {},
   "outputs": [
    {
     "data": {
      "text/plain": [
       "26.746436741157844"
      ]
     },
     "execution_count": 76,
     "metadata": {},
     "output_type": "execute_result"
    }
   ],
   "source": [
    "(4560/17049) * 100"
   ]
  },
  {
   "cell_type": "markdown",
   "metadata": {},
   "source": [
    "# Encrypt/Decrypt strings : One-time pad\n"
   ]
  },
  {
   "cell_type": "code",
   "execution_count": 14,
   "metadata": {},
   "outputs": [],
   "source": [
    "from secrets import token_bytes\n",
    "from typing import Tuple"
   ]
  },
  {
   "cell_type": "code",
   "execution_count": 15,
   "metadata": {},
   "outputs": [],
   "source": [
    "def random_key(length:int) -> int:\n",
    "    rand_key:bytes = token_bytes(length)\n",
    "    return int.from_bytes(rand_key, \"big\")"
   ]
  },
  {
   "cell_type": "code",
   "execution_count": 16,
   "metadata": {},
   "outputs": [],
   "source": [
    "def encrypt(msg:str) -> Tuple[int, int]:\n",
    "    encoded_bytes:bytes = msg.encode()\n",
    "    length:int = len(encoded_bytes)\n",
    "    message_int:int = int.from_bytes(encoded_bytes, \"big\")\n",
    "    key:int = random_key(length)\n",
    "    encrypted_message = message_int ^ key\n",
    "    return (key, encrypted_message)"
   ]
  },
  {
   "cell_type": "code",
   "execution_count": 17,
   "metadata": {},
   "outputs": [],
   "source": [
    "def decode(data:Tuple[int, int]) -> str:\n",
    "    decrypted_data:int = data[0] ^ data[1]\n",
    "    decoded_bytes:bytes = decrypted_data.to_bytes((decrypted_data.bit_length() + 7) // 8, \"big\")\n",
    "    return decoded_bytes.decode()"
   ]
  },
  {
   "cell_type": "code",
   "execution_count": 13,
   "metadata": {},
   "outputs": [
    {
     "data": {
      "text/plain": [
       "'Amit'"
      ]
     },
     "execution_count": 13,
     "metadata": {},
     "output_type": "execute_result"
    }
   ],
   "source": [
    "decode(encrypt(\"Amit\"))"
   ]
  },
  {
   "cell_type": "code",
   "execution_count": 18,
   "metadata": {},
   "outputs": [
    {
     "data": {
      "text/plain": [
       "(2007686044, 919057128)"
      ]
     },
     "execution_count": 18,
     "metadata": {},
     "output_type": "execute_result"
    }
   ],
   "source": [
    "encrypt(\"Amit\")"
   ]
  },
  {
   "cell_type": "code",
   "execution_count": 19,
   "metadata": {},
   "outputs": [
    {
     "data": {
      "text/plain": [
       "(57449926, 1243410087)"
      ]
     },
     "execution_count": 19,
     "metadata": {},
     "output_type": "execute_result"
    }
   ],
   "source": [
    "encrypt(\"Ipsa\")"
   ]
  },
  {
   "cell_type": "code",
   "execution_count": 21,
   "metadata": {},
   "outputs": [
    {
     "data": {
      "text/plain": [
       "'Ipsa'"
      ]
     },
     "execution_count": 21,
     "metadata": {},
     "output_type": "execute_result"
    }
   ],
   "source": [
    "decode((57449926, 1243410087))"
   ]
  },
  {
   "cell_type": "markdown",
   "metadata": {},
   "source": [
    "# Implement a Stack"
   ]
  },
  {
   "cell_type": "code",
   "execution_count": 88,
   "metadata": {},
   "outputs": [],
   "source": [
    "from typing import TypeVar, Generic, List\n",
    "T = TypeVar('T')\n",
    "\n",
    "class Stack(Generic[T]):\n",
    "    '''Implements a Stack ADT'''\n",
    "    def __init__(self) -> None:\n",
    "        self._container:List(T) = []\n",
    "    def push(self, item:T) -> None:\n",
    "        self._container.append(item)\n",
    "    def pop(self) -> T:\n",
    "        try:\n",
    "            return self._container.pop()\n",
    "        except IndexError:\n",
    "            print(\"Stack is Empty\")\n",
    "    def __repr__(self) -> None:\n",
    "        return repr(self._container)"
   ]
  },
  {
   "cell_type": "code",
   "execution_count": 10,
   "metadata": {},
   "outputs": [],
   "source": [
    "stk = Stack()"
   ]
  },
  {
   "cell_type": "code",
   "execution_count": 11,
   "metadata": {},
   "outputs": [
    {
     "name": "stdout",
     "output_type": "stream",
     "text": [
      "Stack is Empty\n",
      "None\n"
     ]
    }
   ],
   "source": [
    "print(stk.pop())"
   ]
  },
  {
   "cell_type": "code",
   "execution_count": 12,
   "metadata": {},
   "outputs": [],
   "source": [
    "stk.push(4)"
   ]
  },
  {
   "cell_type": "code",
   "execution_count": 13,
   "metadata": {},
   "outputs": [
    {
     "name": "stdout",
     "output_type": "stream",
     "text": [
      "[4]\n"
     ]
    }
   ],
   "source": [
    "print(stk)"
   ]
  },
  {
   "cell_type": "code",
   "execution_count": 14,
   "metadata": {},
   "outputs": [
    {
     "name": "stdout",
     "output_type": "stream",
     "text": [
      "4\n"
     ]
    }
   ],
   "source": [
    "print(stk.pop())"
   ]
  },
  {
   "cell_type": "markdown",
   "metadata": {},
   "source": [
    "# Implement a Queue"
   ]
  },
  {
   "cell_type": "code",
   "execution_count": 15,
   "metadata": {},
   "outputs": [],
   "source": [
    "from typing import TypeVar, Generic, Deque"
   ]
  },
  {
   "cell_type": "code",
   "execution_count": 16,
   "metadata": {},
   "outputs": [],
   "source": [
    "T = TypeVar('T')"
   ]
  },
  {
   "cell_type": "code",
   "execution_count": 31,
   "metadata": {},
   "outputs": [],
   "source": [
    "from collections import deque\n",
    "class Queue(Generic[T]):\n",
    "    '''Define a Queue ADT'''\n",
    "    def __init__(self) -> None:\n",
    "        self._container: Deque = deque()\n",
    "    def enqueue(self, item:T) -> None:\n",
    "        self._container.append(item)\n",
    "    def dequeue(self) -> T:\n",
    "        try:\n",
    "            return self._container.popleft()\n",
    "        except IndexError:\n",
    "            raise IndexError(\"Queue is empty\")\n",
    "    def __str__(self) -> str:\n",
    "        return repr(self._container)"
   ]
  },
  {
   "cell_type": "code",
   "execution_count": 32,
   "metadata": {},
   "outputs": [],
   "source": [
    "queue = Queue()"
   ]
  },
  {
   "cell_type": "code",
   "execution_count": 33,
   "metadata": {},
   "outputs": [],
   "source": [
    "queue.enqueue(\"Tarzan\")"
   ]
  },
  {
   "cell_type": "code",
   "execution_count": 34,
   "metadata": {},
   "outputs": [
    {
     "name": "stdout",
     "output_type": "stream",
     "text": [
      "deque(['Tarzan'])\n"
     ]
    }
   ],
   "source": [
    "print(queue)"
   ]
  },
  {
   "cell_type": "code",
   "execution_count": 37,
   "metadata": {},
   "outputs": [
    {
     "name": "stdout",
     "output_type": "stream",
     "text": [
      "Tarzan\n"
     ]
    }
   ],
   "source": [
    "print(queue.dequeue())"
   ]
  },
  {
   "cell_type": "markdown",
   "metadata": {},
   "source": [
    "# Exercises"
   ]
  },
  {
   "cell_type": "code",
   "execution_count": 127,
   "metadata": {},
   "outputs": [
    {
     "name": "stdout",
     "output_type": "stream",
     "text": [
      "deque([1, 2])\n",
      "deque([2, 3])\n",
      "deque([3, 5])\n",
      "deque([5, 8])\n",
      "deque([8, 13])\n",
      "deque([13, 21])\n",
      "deque([21, 34])\n",
      "deque([34, 55])\n",
      "deque([55, 89])\n",
      "deque([89, 144])\n",
      "deque([144, 233])\n",
      "deque([233, 377])\n",
      "deque([377, 610])\n",
      "deque([610, 987])\n",
      "deque([987, 1597])\n"
     ]
    }
   ],
   "source": [
    "'''1. Write yet another function that solves for element of the Fibonacci sequence,\n",
    "n using a technique of your own design. Write unit tests that evaluate its \n",
    "correctness and performance relative to the other versions in this chapter.'''\n",
    "from collections import deque\n",
    "stack = deque()\n",
    "stack.append(1)\n",
    "stack.append(1)\n",
    "for _ in range(0, 15):\n",
    "    x:int = stack.popleft()\n",
    "    y:int = stack.popleft()\n",
    "    z:int = x + y\n",
    "    stack.append(y)\n",
    "    stack.append(z)\n",
    "    print(stack)"
   ]
  },
  {
   "cell_type": "code",
   "execution_count": 182,
   "metadata": {},
   "outputs": [],
   "source": [
    "'''2. You saw how the simple type in Python can be used to represent a bit string.\n",
    "int Write an ergonomic wrapper around that can be used generically as a int\n",
    "sequence of bits (make it iterable and implement _getitem__()). Reimplement CompressedGene, using the wrapper.'''\n",
    "from copy import copy\n",
    "\n",
    "class BitSequence():\n",
    "    '''use int as a bit sequence. Int can be of maximum 28 bytes length'''\n",
    "    def __init__(self, n:int) -> None:\n",
    "        '''store an internal integer'''\n",
    "        self._container:int = n\n",
    "        self._x:int = copy(self._container)\n",
    "        self.length = n.bit_length()\n",
    "    def __iter__(self):\n",
    "        return self\n",
    "    def __next__(self) -> bool:\n",
    "        if self.length>0:\n",
    "            if self._x == 0:\n",
    "                raise StopIteration\n",
    "            else:\n",
    "                x:bool = self._x & 0b01\n",
    "                self._x = self._x >> 1\n",
    "                self.length -= 1\n",
    "                return x\n",
    "        else:\n",
    "            raise StopIteration"
   ]
  },
  {
   "cell_type": "code",
   "execution_count": 183,
   "metadata": {},
   "outputs": [],
   "source": [
    "bitseq = BitSequence(4)"
   ]
  },
  {
   "cell_type": "code",
   "execution_count": 184,
   "metadata": {},
   "outputs": [
    {
     "name": "stdout",
     "output_type": "stream",
     "text": [
      "0\n",
      "0\n",
      "1\n"
     ]
    }
   ],
   "source": [
    "for b in bitseq:\n",
    "    print(b)"
   ]
  },
  {
   "cell_type": "code",
   "execution_count": 129,
   "metadata": {},
   "outputs": [
    {
     "data": {
      "text/plain": [
       "'100'"
      ]
     },
     "execution_count": 129,
     "metadata": {},
     "output_type": "execute_result"
    }
   ],
   "source": [
    "bin(4).lstrip('-0b')"
   ]
  },
  {
   "cell_type": "code",
   "execution_count": 130,
   "metadata": {},
   "outputs": [],
   "source": [
    "import sys"
   ]
  },
  {
   "cell_type": "code",
   "execution_count": 131,
   "metadata": {},
   "outputs": [
    {
     "name": "stdout",
     "output_type": "stream",
     "text": [
      "little\n"
     ]
    }
   ],
   "source": [
    "print(sys.byteorder)"
   ]
  },
  {
   "cell_type": "code",
   "execution_count": 132,
   "metadata": {},
   "outputs": [
    {
     "data": {
      "text/plain": [
       "8"
      ]
     },
     "execution_count": 132,
     "metadata": {},
     "output_type": "execute_result"
    }
   ],
   "source": [
    "int.from_bytes(b'\\x00\\10', \"big\")"
   ]
  },
  {
   "cell_type": "code",
   "execution_count": 135,
   "metadata": {},
   "outputs": [
    {
     "data": {
      "text/plain": [
       "b'\\x00\\n'"
      ]
     },
     "execution_count": 135,
     "metadata": {},
     "output_type": "execute_result"
    }
   ],
   "source": [
    "(10).to_bytes(2, \"big\")"
   ]
  },
  {
   "cell_type": "code",
   "execution_count": 149,
   "metadata": {},
   "outputs": [],
   "source": [
    "n = 65"
   ]
  },
  {
   "cell_type": "code",
   "execution_count": 151,
   "metadata": {},
   "outputs": [
    {
     "data": {
      "text/plain": [
       "b'\\x00A'"
      ]
     },
     "execution_count": 151,
     "metadata": {},
     "output_type": "execute_result"
    }
   ],
   "source": [
    "n.to_bytes(2, \"big\")"
   ]
  },
  {
   "cell_type": "code",
   "execution_count": 155,
   "metadata": {},
   "outputs": [
    {
     "data": {
      "text/plain": [
       "(1, 2)"
      ]
     },
     "execution_count": 155,
     "metadata": {},
     "output_type": "execute_result"
    }
   ],
   "source": [
    "(0.5).as_integer_ratio()"
   ]
  },
  {
   "cell_type": "markdown",
   "metadata": {},
   "source": [
    "# Generics for Searching\n",
    "\n",
    "For sorting I learnt about the module bisect. bisect offers bisect.bisect_left(a, x, lo=0, hi=len(a)) and bisect.insort_left(a, x, lo=0, hi=len(a))"
   ]
  },
  {
   "cell_type": "code",
   "execution_count": 33,
   "metadata": {},
   "outputs": [],
   "source": [
    "from typing_extensions import Protocol"
   ]
  },
  {
   "cell_type": "code",
   "execution_count": 44,
   "metadata": {},
   "outputs": [],
   "source": [
    "from typing import TypeVar, Any, Iterable, Sequence"
   ]
  },
  {
   "cell_type": "code",
   "execution_count": 40,
   "metadata": {},
   "outputs": [],
   "source": [
    "T = TypeVar('T')"
   ]
  },
  {
   "cell_type": "code",
   "execution_count": 41,
   "metadata": {},
   "outputs": [],
   "source": [
    "C = TypeVar('C', bound='Comparable')"
   ]
  },
  {
   "cell_type": "code",
   "execution_count": 63,
   "metadata": {},
   "outputs": [],
   "source": [
    "class Comparable(Protocol):\n",
    "    def __eq__(self, other: Any) -> bool:\n",
    "        raise NotImplementedError\n",
    "    def __lt__(self: C, other:C) -> bool:\n",
    "        raise NotImplementedError\n",
    "    def __gt__(self: C, other: C) -> bool:\n",
    "        return (not self < other ) and (self != other)\n",
    "    def __le__(self: C, other: C) -> bool:\n",
    "        return (self < other) or (self == other)\n",
    "    def __ge__(self: C, other: C) -> bool:\n",
    "        return not (self < other)"
   ]
  },
  {
   "cell_type": "code",
   "execution_count": 64,
   "metadata": {},
   "outputs": [],
   "source": [
    "def linear_contains(items: Iterable[T], key: T) -> bool:\n",
    "    for item in items:\n",
    "        if key == item:\n",
    "            return True\n",
    "    return False"
   ]
  },
  {
   "cell_type": "code",
   "execution_count": 65,
   "metadata": {},
   "outputs": [],
   "source": [
    "def binary_contains(items: Sequence[C], key: C) -> bool:\n",
    "    lo = 0\n",
    "    hi = len(items) - 1\n",
    "    while lo <= hi:\n",
    "        mid = (lo + hi) // 2\n",
    "        if key < items[mid]:\n",
    "            hi = mid\n",
    "        if key > items[mid]:\n",
    "            lo = mid + 1\n",
    "        if key == items[mid]:\n",
    "            return True\n",
    "    return False"
   ]
  },
  {
   "cell_type": "code",
   "execution_count": 66,
   "metadata": {},
   "outputs": [
    {
     "data": {
      "text/plain": [
       "True"
      ]
     },
     "execution_count": 66,
     "metadata": {},
     "output_type": "execute_result"
    }
   ],
   "source": [
    "binary_contains(['A', 'B', 'C', 'D', 'E', 'F'], 'C')"
   ]
  },
  {
   "cell_type": "code",
   "execution_count": 67,
   "metadata": {},
   "outputs": [
    {
     "data": {
      "text/plain": [
       "False"
      ]
     },
     "execution_count": 67,
     "metadata": {},
     "output_type": "execute_result"
    }
   ],
   "source": [
    "binary_contains([\"john\", \"mark\", \"ronald\", \"sarah\"], \"sheila\")"
   ]
  },
  {
   "cell_type": "code",
   "execution_count": 68,
   "metadata": {},
   "outputs": [
    {
     "data": {
      "text/plain": [
       "True"
      ]
     },
     "execution_count": 68,
     "metadata": {},
     "output_type": "execute_result"
    }
   ],
   "source": [
    "linear_contains(['A', 'B', 'C', 'D', 'E', 'F'], 'C')"
   ]
  },
  {
   "cell_type": "code",
   "execution_count": 69,
   "metadata": {},
   "outputs": [
    {
     "data": {
      "text/plain": [
       "False"
      ]
     },
     "execution_count": 69,
     "metadata": {},
     "output_type": "execute_result"
    }
   ],
   "source": [
    "linear_contains([\"john\", \"mark\", \"ronald\", \"sarah\"], \"sheila\")"
   ]
  },
  {
   "cell_type": "markdown",
   "metadata": {},
   "source": [
    "# Implement Lowest Common Subsequence"
   ]
  },
  {
   "cell_type": "code",
   "execution_count": 26,
   "metadata": {},
   "outputs": [],
   "source": [
    "X = \"CATCG\"\n",
    "Y = \"GTACCGTC\""
   ]
  },
  {
   "cell_type": "code",
   "execution_count": 27,
   "metadata": {},
   "outputs": [],
   "source": [
    "from typing import List\n",
    "\n",
    "def length_LCS(str1:list, str2:list) -> List[List[int]]:\n",
    "    l:List[List[int]] = [[0 for i in range(0, len(str2))] for j in range(0, len(str1))]\n",
    "    for i in range(0, len(str1)):\n",
    "        l[i][0] = 0\n",
    "    for j in range(0, len(str2)):\n",
    "        l[0][j] = 0\n",
    "    for i in range(0, len(str1)):\n",
    "        for j in range(0, len(str2)):\n",
    "            if str1[i] == str2[j]:\n",
    "                l[i][j] = l[i-1][j-1] + 1\n",
    "            else:\n",
    "                l[i][j] = max(l[i-1][j], l[i][j-1])\n",
    "    return l"
   ]
  },
  {
   "cell_type": "code",
   "execution_count": 28,
   "metadata": {},
   "outputs": [
    {
     "name": "stdout",
     "output_type": "stream",
     "text": [
      "[[0, 0, 0, 1, 1, 1, 1, 1], [0, 0, 1, 1, 1, 1, 1, 1], [0, 1, 1, 1, 1, 1, 2, 2], [0, 1, 1, 2, 2, 2, 2, 3], [4, 4, 4, 4, 4, 3, 3, 3]]\n"
     ]
    }
   ],
   "source": [
    "print(length_LCS(list(X), list(Y)))"
   ]
  },
  {
   "cell_type": "code",
   "execution_count": 29,
   "metadata": {},
   "outputs": [],
   "source": [
    "def LCS(S1:list, S2:list, l:List[List[int]], i:int, j:int) -> str:\n",
    "    if l[i][j] == 0:\n",
    "        return \"\"\n",
    "    if S1[i] == S2[j]:\n",
    "        return LCS(S1, S2, l, i-1, j-1 ) + S1[i]\n",
    "    if l[i-1][j] > l[i][j-1]:\n",
    "        return LCS(S1, S2, l, i-1, j)\n",
    "    else:\n",
    "        return LCS(S1, S2, l, i, j-1)"
   ]
  },
  {
   "cell_type": "code",
   "execution_count": 30,
   "metadata": {},
   "outputs": [],
   "source": [
    "L = length_LCS(list(X), list(Y))"
   ]
  },
  {
   "cell_type": "code",
   "execution_count": 31,
   "metadata": {},
   "outputs": [
    {
     "name": "stdout",
     "output_type": "stream",
     "text": [
      "TCG\n"
     ]
    }
   ],
   "source": [
    "print(LCS(X, Y, L, len(X)-1, len(Y)-1))"
   ]
  },
  {
   "cell_type": "markdown",
   "metadata": {},
   "source": [
    "# Maze Solving"
   ]
  },
  {
   "cell_type": "code",
   "execution_count": 70,
   "metadata": {},
   "outputs": [],
   "source": [
    "from enum import Enum"
   ]
  },
  {
   "cell_type": "code",
   "execution_count": 71,
   "metadata": {},
   "outputs": [],
   "source": [
    "class Cell(str, Enum):\n",
    "    EMPTY = \" \"\n",
    "    BLOCKED = \"X\"\n",
    "    START = \"S\"\n",
    "    GOAL = \"G\"\n",
    "    PATH = \"*\""
   ]
  },
  {
   "cell_type": "code",
   "execution_count": 73,
   "metadata": {},
   "outputs": [],
   "source": [
    "c = Cell(\"X\")"
   ]
  },
  {
   "cell_type": "code",
   "execution_count": 83,
   "metadata": {},
   "outputs": [
    {
     "data": {
      "text/plain": [
       "True"
      ]
     },
     "execution_count": 83,
     "metadata": {},
     "output_type": "execute_result"
    }
   ],
   "source": [
    "isinstance(c, Cell)"
   ]
  },
  {
   "cell_type": "code",
   "execution_count": 84,
   "metadata": {},
   "outputs": [
    {
     "data": {
      "text/plain": [
       "True"
      ]
     },
     "execution_count": 84,
     "metadata": {},
     "output_type": "execute_result"
    }
   ],
   "source": [
    "type(c) == Cell"
   ]
  },
  {
   "cell_type": "markdown",
   "metadata": {},
   "source": [
    "Initialize a random maze"
   ]
  },
  {
   "cell_type": "code",
   "execution_count": 310,
   "metadata": {},
   "outputs": [],
   "source": [
    "from typing import NamedTuple, TypeVar, List, Set, Generic\n",
    "from collections import deque\n",
    "\n",
    "T = TypeVar('T')\n",
    "\n",
    "class MazeLocation(NamedTuple):\n",
    "    row: int\n",
    "    column: int\n",
    "\n",
    "class Stack(Generic[T]):\n",
    "    '''Implement a stack with list'''\n",
    "    def __init__(self) -> None:\n",
    "        self._container:List[T] = []\n",
    "    def push(self, item:T) -> None:\n",
    "        self._container.append(item)\n",
    "    def pop(self) -> T:\n",
    "        try:\n",
    "            return self._container.pop()\n",
    "        except:\n",
    "            raise IndexError(\"The stack is empty\")\n",
    "    def is_Empty(self) -> bool:\n",
    "        return len(self._container) == 0\n",
    "    def __str__(self) -> str:\n",
    "        return repr(self._container)\n",
    "\n",
    "class Queue(Generic[T]):\n",
    "    '''Implement a queue with dequeue'''\n",
    "    def __init__(self) -> None:\n",
    "        self._container = deque()\n",
    "    def push(self, item:T) -> None:\n",
    "        self._container.append(item)\n",
    "    def pop(self) -> T:\n",
    "        try:\n",
    "            return self._container.popleft()\n",
    "        except IndexError:\n",
    "            raise IndexError(\"Queue is empth\")\n",
    "    def is_Empty(self) -> bool:\n",
    "        return len(self._container) == 0\n",
    "    def __str__(self) -> str:\n",
    "        return repr(self._container)\n",
    "\n",
    "class Color(str, Enum):\n",
    "    WHITE = \" \"\n",
    "    GRAY = \"G\"\n",
    "    BLACK = \"B\"\n",
    "    \n",
    "class Node():\n",
    "    '''Node in a path. Each node object can store information such as predecessor. color'''\n",
    "    def __init__(self, item:MazeLocation) -> None:\n",
    "        self.value:MazeLocation = item\n",
    "        self.pred:Optional[MazeLocation] = None\n",
    "        self.color:Color = Color.WHITE\n",
    "    def set_pred(self, item:MazeLocation) -> None:\n",
    "        self.pred:Optional[MazeLocation] = item\n",
    "    def set_color(self, color:Color) -> None:\n",
    "        self.color:Color = color\n",
    "\n",
    "class Maze():\n",
    "    '''Assuming a square martix. It takes as an input the size of matrix to be generated'''\n",
    "    def __init__(self, size:int) -> None:\n",
    "        self.size = size\n",
    "        self._container: List[List[Cell]] = [[Cell.EMPTY for _ in range(size)] for _ in range(size)]\n",
    "        for i in range(size):\n",
    "            for j in range(size):\n",
    "                if secrets.randbelow(100) < 20:\n",
    "                    self._container[i][j] = Cell.BLOCKED\n",
    "        while True:\n",
    "            x:int = secrets.randbelow(self.size)\n",
    "            y:int = secrets.randbelow(self.size)\n",
    "            z:int = secrets.randbelow(self.size)\n",
    "            a:int = secrets.randbelow(self.size)\n",
    "            if MazeLocation(row=x, column=y) != MazeLocation(row=z, column=a):\n",
    "                self._container[x][y] = Cell.START\n",
    "                self._container[z][a] = Cell.GOAL\n",
    "                self.start = MazeLocation(row=x, column=y)\n",
    "                self.goal = MazeLocation(row=z, column=a)\n",
    "                break\n",
    "    def _is_valid_move(self, loc:MazeLocation) -> bool:\n",
    "        if (loc.row >= 0) and (loc.row < self.size):\n",
    "            if (loc.column >= 0) and (loc.column < self.size):\n",
    "                if self._container[loc.row][loc.column] != Cell.BLOCKED:\n",
    "                    return True\n",
    "        return False\n",
    "    def successors(self, loc:MazeLocation) -> List[MazeLocation]:\n",
    "        shifts:List[MazeLocation] = [MazeLocation(row=x, column=y) for x in [0, 1, -1] for y in [0, 1, -1]]\n",
    "        shifts.remove(MazeLocation(row=0, column=0))\n",
    "        result:List[MazeLocation] = []\n",
    "        for r, c in shifts:\n",
    "            new_loc:MazeLocation = MazeLocation(row=loc.row+r, column=loc.column+c)\n",
    "            if self._is_valid_move(new_loc):\n",
    "                result.append(MazeLocation(row=loc.row+r, column=loc.column+c))\n",
    "        return result\n",
    "    def DFS(self) -> bool:\n",
    "        '''Go from start to goal using Depth First Search Strategy'''\n",
    "        self.path:List[MazeLocation] = []\n",
    "        frontier:Stack[Node] = Stack()\n",
    "        start:Node = Node(self.start)\n",
    "        frontier.push(start)\n",
    "        explored:Set[MazeLocation] = set()\n",
    "        count:int = 0\n",
    "        while not frontier.is_Empty():\n",
    "            curr:Node = frontier.pop()\n",
    "            count += 1\n",
    "            if curr.value == self.goal:\n",
    "                return True\n",
    "            if curr.value != self.start:\n",
    "                self.path.append(curr.value)\n",
    "                self._container[curr.value.row][curr.value.column] = Cell.PATH\n",
    "            for n in self.successors(curr.value):\n",
    "                if not (n in explored):\n",
    "                    n_ = Node(n)\n",
    "                    n_.set_pred = curr\n",
    "                    frontier.push(n_)\n",
    "                    explored.add(n)\n",
    "        return False\n",
    "    def BFS(self) -> bool:\n",
    "        '''Go from start to goal using Depth First Search Strategy'''\n",
    "        self.path:List[MazeLocation] = []\n",
    "        frontier:Queue[Node] = Queue()\n",
    "        start:Node = Node(self.start)\n",
    "        frontier.push(start)\n",
    "        explored:Set[MazeLocation] = set()\n",
    "        count:int = 0\n",
    "        while not frontier.is_Empty():\n",
    "            curr:Node = frontier.pop()\n",
    "            count += 1\n",
    "            if curr.value == self.goal:\n",
    "                return True\n",
    "            if curr.value != self.start:\n",
    "                self.path.append(curr.value)\n",
    "                self._container[curr.value.row][curr.value.column] = Cell.PATH\n",
    "            for n in self.successors(curr.value):\n",
    "                if not (n in explored):\n",
    "                    n_ = Node(n)\n",
    "                    n_.set_pred = curr\n",
    "                    frontier.push(n_)\n",
    "                    explored.add(n)\n",
    "        return False\n",
    "    def __str__(self) -> str:\n",
    "        result:str = \"\"\n",
    "        for i in range(self.size):\n",
    "            result += str([x.value for x in self._container[i]])\n",
    "            result += \"\\n\"\n",
    "        return result"
   ]
  },
  {
   "cell_type": "code",
   "execution_count": 311,
   "metadata": {},
   "outputs": [],
   "source": [
    "maze1 = Maze(size=10)"
   ]
  },
  {
   "cell_type": "code",
   "execution_count": 312,
   "metadata": {},
   "outputs": [
    {
     "name": "stdout",
     "output_type": "stream",
     "text": [
      "[' ', ' ', ' ', ' ', 'X', ' ', ' ', ' ', ' ', 'X']\n",
      "[' ', ' ', ' ', 'X', ' ', ' ', ' ', ' ', ' ', ' ']\n",
      "[' ', ' ', ' ', ' ', ' ', ' ', ' ', 'G', ' ', ' ']\n",
      "['X', ' ', ' ', ' ', ' ', ' ', ' ', ' ', ' ', ' ']\n",
      "[' ', 'X', ' ', 'X', 'S', 'X', 'X', ' ', 'X', ' ']\n",
      "[' ', ' ', ' ', 'X', ' ', 'X', ' ', ' ', 'X', ' ']\n",
      "[' ', 'X', ' ', ' ', 'X', ' ', ' ', ' ', ' ', ' ']\n",
      "[' ', ' ', ' ', ' ', ' ', 'X', ' ', ' ', ' ', ' ']\n",
      "[' ', ' ', 'X', ' ', ' ', ' ', ' ', 'X', ' ', 'X']\n",
      "[' ', ' ', ' ', ' ', ' ', ' ', ' ', ' ', ' ', 'X']\n",
      "\n"
     ]
    }
   ],
   "source": [
    "print(maze1)"
   ]
  },
  {
   "cell_type": "code",
   "execution_count": 313,
   "metadata": {},
   "outputs": [
    {
     "name": "stdout",
     "output_type": "stream",
     "text": [
      "MazeLocation(row=4, column=4)\n"
     ]
    }
   ],
   "source": [
    "print(maze1.start)"
   ]
  },
  {
   "cell_type": "code",
   "execution_count": 314,
   "metadata": {},
   "outputs": [
    {
     "name": "stdout",
     "output_type": "stream",
     "text": [
      "MazeLocation(row=2, column=7)\n"
     ]
    }
   ],
   "source": [
    "print(maze1.goal)"
   ]
  },
  {
   "cell_type": "code",
   "execution_count": 315,
   "metadata": {},
   "outputs": [
    {
     "data": {
      "text/plain": [
       "[MazeLocation(row=5, column=4),\n",
       " MazeLocation(row=3, column=4),\n",
       " MazeLocation(row=3, column=5),\n",
       " MazeLocation(row=3, column=3)]"
      ]
     },
     "execution_count": 315,
     "metadata": {},
     "output_type": "execute_result"
    }
   ],
   "source": [
    "maze1.successors(MazeLocation(row=maze1.start.row, column=maze1.start.column))"
   ]
  },
  {
   "cell_type": "code",
   "execution_count": 316,
   "metadata": {},
   "outputs": [
    {
     "name": "stdout",
     "output_type": "stream",
     "text": [
      "True\n"
     ]
    }
   ],
   "source": [
    "print(maze1.BFS())"
   ]
  },
  {
   "cell_type": "code",
   "execution_count": 317,
   "metadata": {},
   "outputs": [
    {
     "name": "stdout",
     "output_type": "stream",
     "text": [
      "[' ', ' ', ' ', ' ', 'X', ' ', ' ', ' ', ' ', 'X']\n",
      "[' ', ' ', '*', 'X', '*', '*', '*', ' ', ' ', ' ']\n",
      "[' ', ' ', '*', '*', '*', '*', '*', 'G', ' ', ' ']\n",
      "['X', ' ', '*', '*', '*', '*', '*', '*', ' ', ' ']\n",
      "[' ', 'X', '*', 'X', 'S', 'X', 'X', '*', 'X', ' ']\n",
      "[' ', ' ', '*', 'X', '*', 'X', '*', ' ', 'X', ' ']\n",
      "[' ', 'X', '*', '*', 'X', '*', '*', ' ', ' ', ' ']\n",
      "[' ', ' ', '*', '*', '*', 'X', '*', ' ', ' ', ' ']\n",
      "[' ', ' ', 'X', ' ', ' ', ' ', ' ', 'X', ' ', 'X']\n",
      "[' ', ' ', ' ', ' ', ' ', ' ', ' ', ' ', ' ', 'X']\n",
      "\n"
     ]
    }
   ],
   "source": [
    "print(maze1)"
   ]
  },
  {
   "cell_type": "code",
   "execution_count": 318,
   "metadata": {},
   "outputs": [
    {
     "name": "stdout",
     "output_type": "stream",
     "text": [
      "[MazeLocation(row=5, column=4), MazeLocation(row=3, column=4), MazeLocation(row=3, column=5), MazeLocation(row=3, column=3), MazeLocation(row=6, column=5), MazeLocation(row=6, column=3), MazeLocation(row=2, column=4), MazeLocation(row=2, column=5), MazeLocation(row=2, column=3), MazeLocation(row=3, column=6), MazeLocation(row=2, column=6), MazeLocation(row=3, column=2), MazeLocation(row=4, column=2), MazeLocation(row=2, column=2), MazeLocation(row=6, column=6), MazeLocation(row=7, column=6), MazeLocation(row=7, column=4), MazeLocation(row=5, column=6), MazeLocation(row=6, column=2), MazeLocation(row=7, column=3), MazeLocation(row=7, column=2), MazeLocation(row=5, column=2), MazeLocation(row=1, column=4), MazeLocation(row=1, column=5), MazeLocation(row=1, column=6), MazeLocation(row=1, column=2), MazeLocation(row=3, column=7), MazeLocation(row=4, column=7)]\n"
     ]
    }
   ],
   "source": [
    "print(maze1.path)"
   ]
  },
  {
   "cell_type": "code",
   "execution_count": null,
   "metadata": {},
   "outputs": [],
   "source": []
  },
  {
   "cell_type": "code",
   "execution_count": 299,
   "metadata": {},
   "outputs": [
    {
     "name": "stdout",
     "output_type": "stream",
     "text": [
      "True\n"
     ]
    }
   ],
   "source": [
    "print(maze1.DFS())"
   ]
  },
  {
   "cell_type": "code",
   "execution_count": 300,
   "metadata": {},
   "outputs": [
    {
     "name": "stdout",
     "output_type": "stream",
     "text": [
      "['*', ' ', '*', 'X', '*', '*', 'X', ' ', ' ', ' ']\n",
      "[' ', '*', ' ', '*', 'X', ' ', '*', ' ', ' ', ' ']\n",
      "['*', ' ', ' ', 'X', ' ', '*', ' ', ' ', ' ', ' ']\n",
      "['*', 'X', '*', 'X', 'X', 'X', '*', 'X', 'X', ' ']\n",
      "[' ', '*', 'X', 'X', '*', 'X', ' ', '*', ' ', ' ']\n",
      "['*', '*', 'X', '*', ' ', '*', ' ', ' ', 'S', ' ']\n",
      "['X', 'X', '*', ' ', 'X', 'X', '*', 'X', ' ', 'X']\n",
      "['*', ' ', 'X', ' ', ' ', '*', ' ', 'X', ' ', ' ']\n",
      "['*', ' ', '*', ' ', '*', ' ', ' ', ' ', ' ', ' ']\n",
      "['G', '*', ' ', '*', ' ', 'X', ' ', ' ', ' ', ' ']\n",
      "\n"
     ]
    }
   ],
   "source": [
    "print(maze1)"
   ]
  },
  {
   "cell_type": "code",
   "execution_count": 301,
   "metadata": {},
   "outputs": [
    {
     "name": "stdout",
     "output_type": "stream",
     "text": [
      "[MazeLocation(row=4, column=7), MazeLocation(row=3, column=6), MazeLocation(row=2, column=5), MazeLocation(row=1, column=6), MazeLocation(row=0, column=5), MazeLocation(row=0, column=4), MazeLocation(row=1, column=3), MazeLocation(row=0, column=2), MazeLocation(row=1, column=1), MazeLocation(row=0, column=0), MazeLocation(row=2, column=0), MazeLocation(row=3, column=0), MazeLocation(row=4, column=1), MazeLocation(row=3, column=2), MazeLocation(row=5, column=0), MazeLocation(row=5, column=1), MazeLocation(row=6, column=2), MazeLocation(row=5, column=3), MazeLocation(row=4, column=4), MazeLocation(row=5, column=5), MazeLocation(row=6, column=6), MazeLocation(row=7, column=5), MazeLocation(row=8, column=4), MazeLocation(row=9, column=3), MazeLocation(row=8, column=2), MazeLocation(row=9, column=1), MazeLocation(row=8, column=0), MazeLocation(row=7, column=0)]\n"
     ]
    }
   ],
   "source": [
    "print(maze1.path)"
   ]
  },
  {
   "cell_type": "markdown",
   "metadata": {},
   "source": [
    "# Longest non-repeating substring"
   ]
  },
  {
   "cell_type": "code",
   "execution_count": 62,
   "metadata": {},
   "outputs": [],
   "source": [
    "from typing import List, Optional\n",
    "class Window():\n",
    "    def __init__(self, start:int, end:int) -> None:\n",
    "        self.start:int = start\n",
    "        self.end:int = end\n",
    "        self.windows:List[tuple] = []\n",
    "    def expand_right(self) -> None:\n",
    "        self.end += 1\n",
    "    def shift(self, new_start:int) -> None:\n",
    "        self.start = new_start + 1\n",
    "        self.end += 1\n",
    "    def get_start(self) -> int:\n",
    "        return self.start\n",
    "    def get_end(self) -> int:\n",
    "        return self.end\n",
    "    def reset(self) -> None:\n",
    "        '''Here we can put a sliding window logic'''\n",
    "        self.windows.append((self.start, self.end))\n",
    "    def get_windows(self) -> List[tuple]:\n",
    "        return self.windows\n",
    "    def max_size_window(self) -> int:\n",
    "        max_ = 0\n",
    "        for i, j in self.windows:\n",
    "            max_ = max((j-i+1), max_)\n",
    "        return max_\n",
    "class Solution:\n",
    "    def lengthOfLongestSubstring(self, s: str) -> int:\n",
    "        '''Go from start of the string to end'''\n",
    "        if len(s) <= 1:\n",
    "            return len(s)\n",
    "        begin:int = 0\n",
    "        end:int = len(s) - 1\n",
    "        window:Window = Window(begin, begin)\n",
    "        print(\"start: \",s[window.get_start():window.get_end()+1])\n",
    "        i:int = begin + 1 # A character not in window yet\n",
    "        while i <= end:\n",
    "            print(\"next:\", s[i])\n",
    "            if s[i] not in s[window.get_start():i]:\n",
    "                print(s[i], \" is not in\", s[window.get_start():i])\n",
    "                window.expand_right()\n",
    "            else:\n",
    "                window.reset()\n",
    "                print(s[i], \" is in\", s[window.get_start():i])\n",
    "                rep_index = str(s[window.get_start():i]).index(s[i])\n",
    "                print(\"char:\",s[i] ,\" is at rep_index:\", s[rep_index], \" in:\", s[window.get_start():i])\n",
    "                window.shift(rep_index)\n",
    "            print(\"processed: \", s[window.get_start():window.get_end()+1])\n",
    "            i += 1\n",
    "        print(\"final: \", s[window.get_start():window.get_end()+1])\n",
    "        window.reset()\n",
    "        return window.max_size_window()"
   ]
  },
  {
   "cell_type": "code",
   "execution_count": 63,
   "metadata": {},
   "outputs": [],
   "source": [
    "solution = Solution()"
   ]
  },
  {
   "cell_type": "code",
   "execution_count": 64,
   "metadata": {},
   "outputs": [
    {
     "name": "stdout",
     "output_type": "stream",
     "text": [
      "start:  a\n",
      "next: b\n",
      "b  is not in a\n",
      "processed:  ab\n",
      "next: c\n",
      "c  is not in ab\n",
      "processed:  abc\n",
      "next: a\n",
      "a  is in abc\n",
      "char: a  is at rep_index: a  in: abc\n",
      "processed:  bca\n",
      "next: b\n",
      "b  is in bca\n",
      "char: b  is at rep_index: a  in: bca\n",
      "processed:  bcab\n",
      "next: c\n",
      "c  is in bcab\n",
      "char: c  is at rep_index: b  in: bcab\n",
      "processed:  cabc\n",
      "next: b\n",
      "b  is in cabc\n",
      "char: b  is at rep_index: c  in: cabc\n",
      "processed:  abcb\n",
      "next: b\n",
      "b  is in abcb\n",
      "char: b  is at rep_index: b  in: abcb\n",
      "processed:  cabcbb\n",
      "final:  cabcbb\n"
     ]
    },
    {
     "data": {
      "text/plain": [
       "6"
      ]
     },
     "execution_count": 64,
     "metadata": {},
     "output_type": "execute_result"
    }
   ],
   "source": [
    "solution.lengthOfLongestSubstring(\"abcabcbb\")"
   ]
  },
  {
   "cell_type": "code",
   "execution_count": 25,
   "metadata": {},
   "outputs": [
    {
     "data": {
      "text/plain": [
       "0"
      ]
     },
     "execution_count": 25,
     "metadata": {},
     "output_type": "execute_result"
    }
   ],
   "source": [
    "solution.lengthOfLongestSubstring(\"\")"
   ]
  },
  {
   "cell_type": "code",
   "execution_count": 60,
   "metadata": {},
   "outputs": [
    {
     "name": "stdout",
     "output_type": "stream",
     "text": [
      "start:  d\n",
      "next: v\n",
      "v  is not in d\n",
      "processed:  dv\n",
      "next: d\n",
      "d  is in dv\n",
      "char at rep_index: d\n",
      "processed:  vd\n",
      "next: f\n",
      "f  is not in vd\n",
      "processed:  vdf\n",
      "final:  vdf\n"
     ]
    },
    {
     "data": {
      "text/plain": [
       "3"
      ]
     },
     "execution_count": 60,
     "metadata": {},
     "output_type": "execute_result"
    }
   ],
   "source": [
    "solution.lengthOfLongestSubstring(\"dvdf\")"
   ]
  },
  {
   "cell_type": "markdown",
   "metadata": {},
   "source": [
    "# Given a string, find the length of the longest substring without repeating characters.\n",
    "\n",
    "Solution: Keep a dictionary of characters and the position at which it was seen earlier. If you see a character again and if its recorded index is after or at the start point then shift your start point to one location after where the character was seen earlier. If not, then update maximum because a new character got added."
   ]
  },
  {
   "cell_type": "code",
   "execution_count": 84,
   "metadata": {},
   "outputs": [],
   "source": [
    "class Solution:\n",
    "    def lengthOfLongestSubstring(self, s: str) -> int:\n",
    "        '''Go from start of the string to end'''\n",
    "        start:int = 0\n",
    "        maxLength:int = 0\n",
    "        usedChar:dict = {}\n",
    "        i:int = 0\n",
    "        while i<len(s):\n",
    "            if s[i] in usedChar and start <= usedChar[s[i]]:\n",
    "                start = usedChar[s[i]] + 1\n",
    "            else:\n",
    "                maxLength = max(i-start+1, maxLength)\n",
    "            usedChar[s[i]] = i\n",
    "            i += 1\n",
    "        return maxLength"
   ]
  },
  {
   "cell_type": "code",
   "execution_count": 85,
   "metadata": {},
   "outputs": [],
   "source": [
    "sol = Solution()"
   ]
  },
  {
   "cell_type": "code",
   "execution_count": 86,
   "metadata": {},
   "outputs": [
    {
     "data": {
      "text/plain": [
       "3"
      ]
     },
     "execution_count": 86,
     "metadata": {},
     "output_type": "execute_result"
    }
   ],
   "source": [
    "sol.lengthOfLongestSubstring(\"abcabcbb\")"
   ]
  },
  {
   "cell_type": "code",
   "execution_count": 87,
   "metadata": {},
   "outputs": [
    {
     "data": {
      "text/plain": [
       "3"
      ]
     },
     "execution_count": 87,
     "metadata": {},
     "output_type": "execute_result"
    }
   ],
   "source": [
    "sol.lengthOfLongestSubstring(\"dvdf\")"
   ]
  },
  {
   "cell_type": "code",
   "execution_count": 88,
   "metadata": {},
   "outputs": [
    {
     "data": {
      "text/plain": [
       "5"
      ]
     },
     "execution_count": 88,
     "metadata": {},
     "output_type": "execute_result"
    }
   ],
   "source": [
    "sol.lengthOfLongestSubstring(\"tmmzuxt\")"
   ]
  },
  {
   "cell_type": "markdown",
   "metadata": {},
   "source": [
    "There are two sorted arrays nums1 and nums2 of size m and n respectively.\n",
    "\n",
    "Find the median of the two sorted arrays. The overall run time complexity should be O(log (m+n)).\n",
    "\n",
    "You may assume nums1 and nums2 cannot be both empty."
   ]
  },
  {
   "cell_type": "code",
   "execution_count": 21,
   "metadata": {},
   "outputs": [],
   "source": [
    "from typing import List\n",
    "class Solution:\n",
    "    def get_median(self, nums: List[int]) -> float:\n",
    "        x:int = len(nums2) // 2\n",
    "        if len(nums2) % 2 == 0:\n",
    "            result = (nums2[x] + nums2[x+1]) / 2\n",
    "        else:\n",
    "            result = nums2[x] / 2\n",
    "    def move_from_and_get_median(self, n1:List[int], n2:List[int], diff) ->float:\n",
    "        result:float = 0.0\n",
    "        if diff == 1:\n",
    "            return min(n1[-1], n2[0])\n",
    "        lo:int = 0\n",
    "        hi:int = len(n2) - 1\n",
    "        mid:int = len(n2) // 2\n",
    "        for i in range(0, diff):\n",
    "            while lo < hi:\n",
    "                if n1[i] < n2[mid]:\n",
    "                    hi = mid\n",
    "                elif n1[i] > n2[mid]:\n",
    "                    lo = mid + 1\n",
    "                elif n1[i] == n2[mid]:\n",
    "                    n2.insert(mid, n1[i])\n",
    "                    lo = 0\n",
    "                    hi = len(n2) - 1\n",
    "                    mid = len(n2) // 2\n",
    "            n2.insert(mid, n1[i])\n",
    "            lo = 0\n",
    "            hi = len(n2) - 1\n",
    "            mid = len(n2) // 2\n",
    "            n1 = n1[i+1:]\n",
    "        print(\"n1:\", n1, \",n2:\", n2)\n",
    "        if n1[-1] <= n2[-1]:\n",
    "            result = (n1[-1] + n2[0]) / 2\n",
    "        else:\n",
    "            result = (n1[0] + n2[-1]) / 2\n",
    "        return result\n",
    "    def merge(self, nums1: List[int], nums2: List[int]) -> float:\n",
    "        result:float = 0\n",
    "        diff:int = len(nums1) - len(nums2)\n",
    "        if diff == 0:\n",
    "            if nums1[-1] <= nums2[-1]:\n",
    "                result = (nums1[-1] + nums2[0]) / 2\n",
    "            else:\n",
    "                result = (nums1[0] + nums2[-1]) / 2\n",
    "        elif diff > 0:\n",
    "            result = self.move_from_and_get_median(nums1, nums2, diff)\n",
    "        else:\n",
    "            result = self.move_from_and_get_median(nums2, nums1, (diff * (-1)))\n",
    "        return result\n",
    "    def findMedianSortedArrays(self, nums1: List[int], nums2: List[int]) -> float:\n",
    "        # merge the lists and return the median\n",
    "        result:float = 0.0\n",
    "        l_1 = len(nums1)\n",
    "        l_2 = len(nums2)\n",
    "        if l_1 == 0 and l_2 != 0:\n",
    "            result = self.get_median(nums2)\n",
    "        elif l_1 != 0 and l_2 == 0:\n",
    "            result = self.get_median(nums1)\n",
    "        else:\n",
    "            result = self.merge(nums1, nums2)\n",
    "        return result"
   ]
  },
  {
   "cell_type": "code",
   "execution_count": 22,
   "metadata": {},
   "outputs": [],
   "source": [
    "sol = Solution()"
   ]
  },
  {
   "cell_type": "code",
   "execution_count": 25,
   "metadata": {},
   "outputs": [
    {
     "name": "stdout",
     "output_type": "stream",
     "text": [
      "1\n"
     ]
    }
   ],
   "source": [
    "print(sol.findMedianSortedArrays([1, 2],[3, 4, 7]))"
   ]
  },
  {
   "cell_type": "markdown",
   "metadata": {},
   "source": [
    "The above solution is wrong. Below is the right solution"
   ]
  },
  {
   "cell_type": "code",
   "execution_count": 26,
   "metadata": {},
   "outputs": [],
   "source": [
    "class Solution:\n",
    "    def findMedianSortedArrays(self, nums1: List[int], nums2: List[int]) -> float:\n",
    "        l:int = len(nums1) + len(nums2)\n",
    "        if l % 2 == 1: # if odd, then there's absolute median\n",
    "            return self.kthsmallest(nums1, nums2, l // 2)\n",
    "        else: # There are two medians, lower and upper\n",
    "            return (self.kthsmallest(nums1, nums2, l // 2) + \n",
    "                    self.kthsmallest(nums1, nums2, (l // 2) - 1 )) / 2\n",
    "    \n",
    "    def kthsmallest(self, A: List[int], B: List[int], k:int) -> float:\n",
    "        if not A:\n",
    "            return B[k]\n",
    "        if not B:\n",
    "            return A[k]\n",
    "        la, lb = len(A) // 2, len(B) // 2\n",
    "        ma, mb = A[la], B[lb]\n",
    "        if (la+lb) < k:\n",
    "            # median must in in later halfs of either A or B\n",
    "            if ma > mb:\n",
    "                # it must be in the later half of B\n",
    "                return self.kthsmallest(A, B[lb+1:], k - lb - 1)\n",
    "            else:\n",
    "                return self.kthsmallest(A[la+1:], B, k - la -1)\n",
    "        else:\n",
    "            # median must be in the earlier half of either A or B\n",
    "            if ma > mb:\n",
    "                # k th smallest must be in the earlier half of A\n",
    "                return self.kthsmallest(A[:la], B, k)\n",
    "            else:\n",
    "                return self.kthsmallest(A, B[:lb], k)"
   ]
  },
  {
   "cell_type": "markdown",
   "metadata": {},
   "source": [
    "# k-Select"
   ]
  },
  {
   "cell_type": "code",
   "execution_count": 61,
   "metadata": {},
   "outputs": [],
   "source": [
    "from typing import List\n",
    "from secrets import choice\n",
    "class K_Select:\n",
    "    '''collection is a random collection of ints, p is the start index, \n",
    "    r is an end index and i is the index of smallest number from the collection between p and r'''\n",
    "    def __init__(self, items:List[int]) -> None:\n",
    "        self.collection:List[int] = items\n",
    "    def RANDOM_PARTITION(self, p:int, r:int) -> int:\n",
    "        '''partitions the array into two parts and returns the pivot\n",
    "        such that all elements below the pivot are smaller and above the pivot\n",
    "        are larger than the item at the pivot'''\n",
    "        q:int = choice(range(p, r))\n",
    "        self.collection[q], self.collection[r] = self.collection[r], self.collection[q]\n",
    "        i = -1\n",
    "        j = 0\n",
    "        while j < r:\n",
    "            if self.collection[j] < self.collection[r]:\n",
    "                i += 1\n",
    "                self.collection[i], self.collection[j] = self.collection[j], self.collection[i]\n",
    "            j += 1\n",
    "        self.collection[i], self.collection[r] = self.collection[r], self.collection[i]\n",
    "        return q\n",
    "    def get_kth_smallest(self, p:int, r:int, i:int) -> int:\n",
    "        if p == r:\n",
    "            return self.collection\n",
    "        q = self.RANDOM_PARTITION(p, r)\n",
    "        k:int = q - p + 1\n",
    "        if i == k:\n",
    "            return self.collection[i]\n",
    "        if i < k:\n",
    "            return self.get_kth_smallest(p, q-1, i)\n",
    "        if i > k:\n",
    "            return self.get_kth_smallest(q+1, r, i - k)"
   ]
  },
  {
   "cell_type": "code",
   "execution_count": 62,
   "metadata": {},
   "outputs": [],
   "source": [
    "k_sel = K_Select([0, 1, 2, 3, 4, 5, 6, 7, 8, 9, 10, 11])"
   ]
  },
  {
   "cell_type": "code",
   "execution_count": 63,
   "metadata": {},
   "outputs": [
    {
     "data": {
      "text/plain": [
       "4"
      ]
     },
     "execution_count": 63,
     "metadata": {},
     "output_type": "execute_result"
    }
   ],
   "source": [
    "k_sel.get_kth_smallest(0, 11, 5)"
   ]
  },
  {
   "cell_type": "code",
   "execution_count": 67,
   "metadata": {},
   "outputs": [],
   "source": [
    "from typing import List\n",
    "from secrets import choice\n",
    "class K_Smallest():\n",
    "    '''Iterative implementation'''\n",
    "    def __init__(self, container:List[int]) ->None:\n",
    "        '''Initialize the container'''\n",
    "        self.L:List[int] = container\n",
    "    def R_P(self, p:int, r:int) -> int:\n",
    "        '''Partition the container in such a manner than elements on the left of the pivot are smaller\n",
    "        in value than the value at pivot and the elements at the right of the value of the pivot\n",
    "        are more than the value'''\n",
    "        q = choice(range(p, r))\n",
    "        self.L[q], self.L[r] = self.L[r], self.L[q]\n",
    "        i = -1\n",
    "        j = 0\n",
    "        while j < r:\n",
    "            if self.L[j] < self.L[r]:\n",
    "                i += 1\n",
    "                self.L[i], self.L[j] = self.L[j], self.L[i]\n",
    "            j += 1\n",
    "        self.L[i], self.L[r] = self.L[r], self.L[i]\n",
    "        return q\n",
    "    def k_select(self, i:int) -> int:\n",
    "        '''return the ith smallest element from within the container'''\n",
    "        stack:list = []\n",
    "        stack.append((0, len(self.L) - 1, i))\n",
    "        while len(stack) > 0:\n",
    "            p, r, i = stack.pop()\n",
    "            if p == r:\n",
    "                return self.L[p]\n",
    "            q = self.R_P(p, r)\n",
    "            k = q - p + 1\n",
    "            if i == k:\n",
    "                return self.L[k]\n",
    "            if i < k:\n",
    "                stack.append((p, q-1, i))\n",
    "            if i > k:\n",
    "                stack.append((q+1, r, i - k))"
   ]
  },
  {
   "cell_type": "code",
   "execution_count": 68,
   "metadata": {},
   "outputs": [],
   "source": [
    "k_sm = K_Smallest([0, 1, 2, 3, 4, 5, 6, 7, 8, 9, 10, 11])"
   ]
  },
  {
   "cell_type": "code",
   "execution_count": 69,
   "metadata": {},
   "outputs": [
    {
     "data": {
      "text/plain": [
       "4"
      ]
     },
     "execution_count": 69,
     "metadata": {},
     "output_type": "execute_result"
    }
   ],
   "source": [
    "k_sm.k_select(4)"
   ]
  },
  {
   "cell_type": "code",
   "execution_count": 75,
   "metadata": {},
   "outputs": [],
   "source": [
    "from typing import List, Tuple"
   ]
  },
  {
   "cell_type": "code",
   "execution_count": 71,
   "metadata": {},
   "outputs": [],
   "source": [
    "palims: List[tuple] = []"
   ]
  },
  {
   "cell_type": "code",
   "execution_count": 72,
   "metadata": {},
   "outputs": [],
   "source": [
    "palims.append((3, \"sdf\"))"
   ]
  },
  {
   "cell_type": "code",
   "execution_count": 78,
   "metadata": {},
   "outputs": [],
   "source": [
    "palims2: List[Tuple[int, str]] = []"
   ]
  },
  {
   "cell_type": "code",
   "execution_count": 79,
   "metadata": {},
   "outputs": [
    {
     "name": "stdout",
     "output_type": "stream",
     "text": [
      "[]\n"
     ]
    }
   ],
   "source": [
    "print(palims2)"
   ]
  },
  {
   "cell_type": "code",
   "execution_count": 80,
   "metadata": {},
   "outputs": [],
   "source": [
    "palims2.append((3, \"dsd\"))"
   ]
  },
  {
   "cell_type": "code",
   "execution_count": 81,
   "metadata": {},
   "outputs": [
    {
     "name": "stdout",
     "output_type": "stream",
     "text": [
      "[(3, 'dsd')]\n"
     ]
    }
   ],
   "source": [
    "print(palims2)"
   ]
  },
  {
   "cell_type": "markdown",
   "metadata": {},
   "source": [
    "Given a string s, find the longest palindromic substring in s. You may assume that the maximum length of s is 1000.\n",
    "\n",
    "Example 1:\n",
    "\n",
    "Input: \"babad\"\n",
    "Output: \"bab\"\n",
    "Note: \"aba\" is also a valid answer.\n",
    "\n",
    "Example 2:\n",
    "\n",
    "Input: \"cbbd\"\n",
    "Output: \"bb\"\n",
    "\n"
   ]
  },
  {
   "cell_type": "code",
   "execution_count": 82,
   "metadata": {},
   "outputs": [],
   "source": [
    "class Solution:\n",
    "    def longestPalindrome(self, s: str) -> str:\n",
    "        from typing import List, Tuple\n",
    "        palims: List[Tuple[int, str]] = []\n",
    "        if len(s) <= 1:\n",
    "            return s\n",
    "        if len(s) == 2:\n",
    "            if s[0] != s[1]:\n",
    "                return s[0]\n",
    "            else:\n",
    "                return s\n",
    "        i:int = 0\n",
    "        while i < len(s):\n",
    "            j = len(s) - 1\n",
    "            while j > i:\n",
    "                if s[i] != s[j]:\n",
    "                    pass\n",
    "                else:\n",
    "                    k = i+1\n",
    "                    l = j-1\n",
    "                    while (s[k] == s[l]) and (l > k):\n",
    "                        k += 1\n",
    "                        l -= 1\n",
    "                    if k >= l:\n",
    "                        palims.append((len(s[i:j+1]), s[i:j+1])) \n",
    "                j -= 1\n",
    "            i += 1\n",
    "        if len(palims) > 0:\n",
    "            return max(palims)[1]\n",
    "        else:\n",
    "            return s[0]"
   ]
  },
  {
   "cell_type": "code",
   "execution_count": 83,
   "metadata": {},
   "outputs": [],
   "source": [
    "sol = Solution()"
   ]
  },
  {
   "cell_type": "code",
   "execution_count": 4,
   "metadata": {},
   "outputs": [
    {
     "data": {
      "text/plain": [
       "'aba'"
      ]
     },
     "execution_count": 4,
     "metadata": {},
     "output_type": "execute_result"
    }
   ],
   "source": [
    "sol.longestPalindrome(\"abac\")"
   ]
  },
  {
   "cell_type": "markdown",
   "metadata": {},
   "source": [
    "Time limit exceeded "
   ]
  },
  {
   "cell_type": "code",
   "execution_count": 24,
   "metadata": {},
   "outputs": [],
   "source": [
    "class Solution:\n",
    "    def longestPalindrome(self, s: str) -> str:\n",
    "        lenS = len(s)\n",
    "        if lenS <= 1: return s\n",
    "        minStart, maxLen, i = 0, 1, 0\n",
    "        while i < lenS:\n",
    "            if lenS - i <= maxLen / 2: break \n",
    "            j, k = i, i\n",
    "            while k < lenS - 1 and s[k] == s[k+1]: k += 1\n",
    "            i = k + 1\n",
    "            while (k < lenS - 1) and (j>0) and (s[k+1] == s[j - 1]): k, j = k+1, j-1\n",
    "            if k - j + 1> maxLen: minStart, maxLen = j, k - j +1\n",
    "        return s[minStart: minStart + maxLen]"
   ]
  },
  {
   "cell_type": "code",
   "execution_count": 25,
   "metadata": {},
   "outputs": [],
   "source": [
    "sol = Solution()"
   ]
  },
  {
   "cell_type": "code",
   "execution_count": 26,
   "metadata": {},
   "outputs": [
    {
     "data": {
      "text/plain": [
       "'bb'"
      ]
     },
     "execution_count": 26,
     "metadata": {},
     "output_type": "execute_result"
    }
   ],
   "source": [
    "sol.longestPalindrome(\"cbbd\")"
   ]
  },
  {
   "cell_type": "code",
   "execution_count": 2,
   "metadata": {},
   "outputs": [],
   "source": [
    "sol = Solution()"
   ]
  },
  {
   "cell_type": "code",
   "execution_count": 3,
   "metadata": {},
   "outputs": [
    {
     "data": {
      "text/plain": [
       "'aba'"
      ]
     },
     "execution_count": 3,
     "metadata": {},
     "output_type": "execute_result"
    }
   ],
   "source": [
    "sol.longestPalindrome(\"abac\")"
   ]
  },
  {
   "cell_type": "code",
   "execution_count": 6,
   "metadata": {},
   "outputs": [],
   "source": [
    "from typing import Dict, List"
   ]
  },
  {
   "cell_type": "code",
   "execution_count": 7,
   "metadata": {},
   "outputs": [],
   "source": [
    "key_val:Dict[str, List] = dict()"
   ]
  },
  {
   "cell_type": "code",
   "execution_count": 14,
   "metadata": {},
   "outputs": [],
   "source": [
    "key_val.update({\"a\":[0, 1]})"
   ]
  },
  {
   "cell_type": "code",
   "execution_count": 15,
   "metadata": {},
   "outputs": [
    {
     "data": {
      "text/plain": [
       "{'a': [0, 1]}"
      ]
     },
     "execution_count": 15,
     "metadata": {},
     "output_type": "execute_result"
    }
   ],
   "source": [
    "key_val"
   ]
  },
  {
   "cell_type": "code",
   "execution_count": 80,
   "metadata": {},
   "outputs": [],
   "source": [
    "from typing import Dict, List\n",
    "class Solution:\n",
    "    def longestPalindrome(self, s:str) -> str:\n",
    "        from typing import List, Tuple\n",
    "        palims: List[Tuple[int, str]] = []\n",
    "        if len(s) <= 1:\n",
    "            return s\n",
    "        if len(s) == 2:\n",
    "            if s[0] != s[1]:\n",
    "                return s[0]\n",
    "            else:\n",
    "                return s\n",
    "        i:int = 0\n",
    "        while i < len(s):\n",
    "            try:\n",
    "                j = s.rindex(s[i], beg=i, end=len(s))\n",
    "                print(\"j:\", j)\n",
    "            except:\n",
    "                i += 1\n",
    "                continue\n",
    "            while j > i:\n",
    "                k = i+1\n",
    "                l = j-1\n",
    "                while (s[k] == s[l]) and (l > k):\n",
    "                    k += 1\n",
    "                    l -= 1\n",
    "                if k >= l:\n",
    "                    palims.append((len(s[i:j+1]), s[i:j+1])) \n",
    "                    print(palims)\n",
    "            i += 1\n",
    "        if len(palims) > 0:\n",
    "            return max(palims)[1]\n",
    "        else:\n",
    "            return s[0]"
   ]
  },
  {
   "cell_type": "code",
   "execution_count": 81,
   "metadata": {},
   "outputs": [],
   "source": [
    "sol = Solution()"
   ]
  },
  {
   "cell_type": "code",
   "execution_count": 82,
   "metadata": {},
   "outputs": [
    {
     "name": "stdout",
     "output_type": "stream",
     "text": [
      "a\n"
     ]
    }
   ],
   "source": [
    "print(sol.longestPalindrome(\"abac\"))"
   ]
  },
  {
   "cell_type": "code",
   "execution_count": 33,
   "metadata": {},
   "outputs": [],
   "source": [
    "class Solution():\n",
    "    def longestPalindrome(self, s:str) -> str:\n",
    "        lenS = len(s) # don't want to calculate len(s) again and again\n",
    "        if len(s) < 2:\n",
    "            return s\n",
    "        minStart, maxLen, i = 0, 1, 0 # maxLen is 1 because \n",
    "        #at this stage at least first character will be a trivial palindrome\n",
    "        while i < lenS:\n",
    "            if lenS - i <= maxLen / 2: \n",
    "                break # break out of this loop because at this character going \n",
    "                # right and left by the same amount can't generate a palindrome longer than what we already have got\n",
    "            j, k = i, i # get two indices one to go left and other to go right to track palindromic structure\n",
    "            # k will go right and j will go left, let k reach a location where it has jumped over duplicate characters\n",
    "            # this will take care of scenarios like this palindrome \"bcaaaaaaaaaacb\" or a simpler version of this \"bcaacb\"\n",
    "            while ((k + 1) < lenS) and s[k] == s[k+1]: k += 1\n",
    "            # increment i or set i to next first different character\n",
    "            i = k + 1\n",
    "            # at this stage j and k could be at the same character designated by i or j could be at i and k could be the last repeating character\n",
    "            while ((k + 1) < lenS) and (j > 0) and s[k+1] == s[j-1]: k, j = k+1, j-1\n",
    "            if k-j+1 > maxLen: minStart, maxLen = j , k - j + 1\n",
    "        return s[minStart: minStart+maxLen]"
   ]
  },
  {
   "cell_type": "code",
   "execution_count": 34,
   "metadata": {},
   "outputs": [],
   "source": [
    "sol = Solution()"
   ]
  },
  {
   "cell_type": "code",
   "execution_count": 35,
   "metadata": {},
   "outputs": [
    {
     "data": {
      "text/plain": [
       "'bb'"
      ]
     },
     "execution_count": 35,
     "metadata": {},
     "output_type": "execute_result"
    }
   ],
   "source": [
    "sol.longestPalindrome(\"cbbd\")"
   ]
  },
  {
   "cell_type": "markdown",
   "metadata": {},
   "source": [
    "# Object Oriented Python 3"
   ]
  },
  {
   "cell_type": "markdown",
   "metadata": {},
   "source": [
    "[Documentation about Scope](https://docs.python.org/3/tutorial/classes.html#python-scopes-and-namespaces)"
   ]
  },
  {
   "cell_type": "markdown",
   "metadata": {},
   "source": [
    "Q: What is the difference between \"nonlocal\" and \"global\"?"
   ]
  },
  {
   "cell_type": "markdown",
   "metadata": {},
   "source": [
    " To rebind variables found outside of the innermost scope, the nonlocal statement can be used; if not declared nonlocal, those variables are read-only (an attempt to write to such a variable will simply create a new local variable in the innermost scope, leaving the identically named outer variable unchanged"
   ]
  },
  {
   "cell_type": "markdown",
   "metadata": {},
   "source": [
    "# 2-Sum Leetcode revision"
   ]
  },
  {
   "cell_type": "code",
   "execution_count": 2,
   "metadata": {},
   "outputs": [],
   "source": [
    "from typing import List\n",
    "class Solution:\n",
    "    def twoSum(self, nums: List[int], target: int) -> List[int]:\n",
    "        lenN:int = len(nums)\n",
    "        index:int = 0\n",
    "        j:int = 1\n",
    "        map_:dict = {}\n",
    "        while j<lenN:\n",
    "            diff:int = target - nums[index]\n",
    "            if diff == nums[j]:\n",
    "                return (0, j)\n",
    "            else:\n",
    "                map_[nums[j]] = j\n",
    "            j += 1\n",
    "        index += 1\n",
    "        while index < lenN:\n",
    "            diff:int = target - nums[index]\n",
    "            if diff in map_:\n",
    "                k:int = map_[diff]\n",
    "                if k != index:\n",
    "                    return (index, k)\n",
    "            index += 1"
   ]
  },
  {
   "cell_type": "markdown",
   "metadata": {},
   "source": [
    "Leetcode.com Problem 6 : [ZigZag Conversion](https://leetcode.com/problems/zigzag-conversion/)"
   ]
  },
  {
   "cell_type": "code",
   "execution_count": 60,
   "metadata": {},
   "outputs": [],
   "source": [
    "from typing import Generator, Tuple, Dict\n",
    "from collections import OrderedDict\n",
    "class ZigZagConvertor:\n",
    "    \"\"\"Generate encoding of a string in Zig-Zag traversal\"\"\"\n",
    "    def generate_zigzag(self, row_max:int) -> Generator[Tuple, None, None]:\n",
    "        row:int = 0\n",
    "        col:int = 0\n",
    "        down:bool = True\n",
    "        oblique:bool = False\n",
    "        result:Tuple = (row, col)\n",
    "        yield result\n",
    "        while True:\n",
    "            if down:\n",
    "                assert row < row_max - 1, \"row shouldn't be increased\"\n",
    "                row += 1\n",
    "            if oblique:\n",
    "                col += 1\n",
    "                assert row > 0, \"col shouldn't be decreased\"\n",
    "                row -= 1\n",
    "            if row == row_max - 1 or row == 0:\n",
    "                down = not down\n",
    "                oblique = not oblique\n",
    "            result = (row, col)\n",
    "            yield result\n",
    "    def convert(self, s: str, numRows: int) -> str:\n",
    "        if numRows == 1:\n",
    "            return s\n",
    "        result:str = \"\"\n",
    "        count:int = 0\n",
    "        store:Dict = OrderedDict()\n",
    "        for i in self.generate_zigzag(numRows):\n",
    "            store[i] = s[count]\n",
    "            count += 1\n",
    "            if count > len(s) - 1:\n",
    "                break\n",
    "        for j in sorted(store.keys()):\n",
    "            result += store[j]\n",
    "        return result"
   ]
  },
  {
   "cell_type": "code",
   "execution_count": 61,
   "metadata": {},
   "outputs": [],
   "source": [
    "zzc = ZigZagConvertor()"
   ]
  },
  {
   "cell_type": "code",
   "execution_count": 62,
   "metadata": {},
   "outputs": [
    {
     "data": {
      "text/plain": [
       "'PAHNAPLSIIGYIR'"
      ]
     },
     "execution_count": 62,
     "metadata": {},
     "output_type": "execute_result"
    }
   ],
   "source": [
    "zzc.convert(\"PAYPALISHIRING\", 3)"
   ]
  },
  {
   "cell_type": "code",
   "execution_count": 1,
   "metadata": {},
   "outputs": [
    {
     "name": "stdout",
     "output_type": "stream",
     "text": [
      "[]\n",
      "[377, 55, 'POSTPONED']\n",
      "[367, 45, 'ACCEPTED']\n"
     ]
    }
   ],
   "source": [
    "# Busy Airport\n",
    "# \n",
    "# Today is a busy day at Vancouver Airport. There are a lot of airplanes requesting to land but unfortunately, \n",
    "#the number of available runways for landing is a few. As a result, a policy has been set to manage the \n",
    "#landing aircrafts:\n",
    "# - Landing requests are processed in the order they are received.\n",
    "# - A landing request is accepted if there is a free runway available and the landing process starts immediately.\n",
    "# - The time needed for the landing process is different for each aircraft.\n",
    "# - A landing request is postponed if there is no free runaway available. The requesting aircraft is asked \n",
    "# to request for landing again after 10 minutes.\n",
    "# - If two airplanes request to land at the same time, the request from the one with smaller flight number \n",
    "# will be processed first.\n",
    "# \n",
    "# Your task is:\n",
    "# Write a program that, given the number of runways, the list of the initial request time and the duration \n",
    "# of landing for each aircraft, simulates the above process and generates a detailed report of all \n",
    "# aircraft landing requests and their responses.\n",
    "# \n",
    "# Sample Input\n",
    "# 1    // # of runway\n",
    "# 377 4 45  // flight #, mins it takes to land, time of initial landing request\n",
    "# 367 3 45\n",
    "# 357 4 48\n",
    "# \n",
    "# Sample Output\n",
    "# 367 45 ACCEPTED\n",
    "# 377 45 POSTPONED\n",
    "# 367 48 LANDED\n",
    "# 357 48 ACCEPTED\n",
    "# 357 52 LANDED\n",
    "# 377 55 ACCEPTED\n",
    "# 377 59 LANDED\n",
    "\n",
    "\n",
    "airplanes = [[377, 4, 45], [367, 3, 45], [357, 4, 48]]\n",
    "\n",
    "\n",
    "from typing import List\n",
    "class RunwayManager:\n",
    "    '''Encapsulation for Runway Manager'''\n",
    "    def __init__(self, nRunways:int, airplanes:List):\n",
    "        self.numR:int = nRunways\n",
    "        self.airP:List[List] = airplanes\n",
    "        self.output:List[List] = [[]]\n",
    "        self.now:int = 0 #current time\n",
    "    def schedule(self) -> List[List]:\n",
    "        min_fno, min_ti, min_ts = 0, 0, 0\n",
    "        if len(self.airP) <= 0:\n",
    "            raise ValueError(\"airplane list is empty\")\n",
    "        self.airP = sorted([[ai[2], ai[0], ai[1]] for ai in self.airP])\n",
    "        min_ts, min_fno, min_ti = self.airP[0]\n",
    "        i:int = 1\n",
    "        if len(self.airP) > 1:\n",
    "            ts, fno, ti = self.airP[i]\n",
    "            while i < len(self.airP):\n",
    "                ts, fno, ti = self.airP[i]\n",
    "                if (ts == min_ts) and (fno > min_fno):\n",
    "                    self.output.append([fno, ts+10, \"POSTPONED\"])\n",
    "                elif (ts == min_ts) and (fno < min_fno):   \n",
    "                    min_fno = fno\n",
    "                    min_ti = ti\n",
    "                    min_ts = ts\n",
    "                i += 1\n",
    "        self.output.append([min_fno, min_ts, \"ACCEPTED\"])\n",
    "        self.now = min_ts # use this time as system time for iteration\n",
    "        return self.output\n",
    "\n",
    "def generateReports(nRunways, airplanes):\n",
    "    # complete this\n",
    "    if nRunways <= 0:\n",
    "        raise ValueError(\"No Runways Supplied\")    \n",
    "    rwm:RunwayManager = RunwayManager(nRunways, airplanes)\n",
    "    # This solves it for one cycle. Now I need to code for reiteration\n",
    "    return rwm.schedule()\n",
    "    \n",
    "reports = generateReports(1, airplanes)\n",
    "for report in reports:\n",
    "    print(report)\n"
   ]
  },
  {
   "cell_type": "code",
   "execution_count": null,
   "metadata": {},
   "outputs": [],
   "source": []
  },
  {
   "cell_type": "code",
   "execution_count": null,
   "metadata": {},
   "outputs": [],
   "source": []
  }
 ],
 "metadata": {
  "kernelspec": {
   "display_name": "Python 3",
   "language": "python",
   "name": "python3"
  },
  "language_info": {
   "codemirror_mode": {
    "name": "ipython",
    "version": 3
   },
   "file_extension": ".py",
   "mimetype": "text/x-python",
   "name": "python",
   "nbconvert_exporter": "python",
   "pygments_lexer": "ipython3",
   "version": "3.6.3"
  }
 },
 "nbformat": 4,
 "nbformat_minor": 2
}
